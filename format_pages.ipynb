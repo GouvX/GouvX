{
 "cells": [
  {
   "cell_type": "code",
   "execution_count": 1,
   "metadata": {},
   "outputs": [],
   "source": [
    "import pandas as pd\n",
    "import json\n",
    "import os\n",
    "\n",
    "file_root = \"data_scraped/\"\n",
    "files = [os.path.join(file_root, json_file) for  json_file in os.listdir(file_root)]\n",
    "\n",
    "future_df = []\n",
    "\n",
    "for json_file in files:\n",
    "  with open(json_file, 'r') as file:\n",
    "    json_file = json.load(file)\n",
    "\n",
    "  future_df.append(json_file)"
   ]
  },
  {
   "cell_type": "code",
   "execution_count": 2,
   "metadata": {},
   "outputs": [],
   "source": [
    "import pandas as pd\n",
    "\n",
    "df = pd.DataFrame.from_dict(future_df)"
   ]
  },
  {
   "cell_type": "code",
   "execution_count": 3,
   "metadata": {},
   "outputs": [],
   "source": [
    "import re\n",
    "\n",
    "\n",
    "def split_with_md_titles(text):\n",
    "  # Define a regular expression pattern to match Markdown titles, regardless of level\n",
    "  title_pattern = r'^(#+)\\s*(.*?)\\s*#*$'\n",
    "\n",
    "  # Split the text into lines\n",
    "  lines = text.split('\\n')\n",
    "\n",
    "  # Initialize a list to store title matches or lines that don't match\n",
    "  title_matches = []\n",
    "\n",
    "  # Iterate through each line in the Markdown content\n",
    "  for line in lines:\n",
    "    # Try to find a match for the title pattern\n",
    "    match = re.match(title_pattern, line)\n",
    "\n",
    "    # If a match is found, append it to the list; otherwise, append the original line\n",
    "    if match:\n",
    "        title_matches.append(match.groups())  # Append the matched title\n",
    "    else:\n",
    "        title_matches.append(('', line))  # Append the original line\n",
    "\n",
    "  parsed_sections = []\n",
    "  current_titles = []\n",
    "  current_content = []\n",
    "\n",
    "  for title_match in title_matches:\n",
    "    title_level = len(title_match[0])  # Number of '#' symbols indicates the title level\n",
    "    title_text = title_match[1].strip()  # Extract and remove leading/trailing spaces\n",
    "\n",
    "    # Determine if it's a new section (indicated by a higher title level)\n",
    "    if title_level == 0:\n",
    "        current_content.append(title_text)\n",
    "    else:\n",
    "      if \"\\n\".join(current_content).strip():\n",
    "        parsed_sections.append([current_titles.copy(), \"\\n\".join(current_content)])\n",
    "\n",
    "      if len(current_titles) > 0:\n",
    "        if title_level <= current_titles[-1][0]:\n",
    "            current_titles = list(filter(lambda x: x[0] < title_level, current_titles))\n",
    "            current_titles = current_titles if current_titles else []\n",
    "\n",
    "      current_titles.append((title_level, title_text))\n",
    "      current_content = []\n",
    "\n",
    "  # Append the last section to the list\n",
    "  parsed_sections.append([current_titles, \"\\n\".join(current_content)])\n",
    "\n",
    "  # Print the parsed sections (titles list and content)\n",
    "  result = [{\n",
    "    \"subtitles\": [title[1] for title in titles],\n",
    "    \"content\": content.strip()\n",
    "  } for titles, content in parsed_sections]\n",
    "\n",
    "  return result"
   ]
  },
  {
   "cell_type": "code",
   "execution_count": 4,
   "metadata": {},
   "outputs": [
    {
     "name": "stderr",
     "output_type": "stream",
     "text": [
      "/tmp/ipykernel_64134/46906663.py:4: FutureWarning: Returning a DataFrame from Series.apply when the supplied function returns a Series is deprecated and will be removed in a future version.\n",
      "  df2 = pd.concat([df2.drop(['paragraph'], axis=1), df2['paragraph'].apply(pd.Series)], axis=1)\n"
     ]
    }
   ],
   "source": [
    "df2 = df.copy()\n",
    "df2['paragraph'] = df2['text'].apply(lambda x: split_with_md_titles(x))\n",
    "df2 = df2.explode('paragraph')\n",
    "df2 = pd.concat([df2.drop(['paragraph'], axis=1), df2['paragraph'].apply(pd.Series)], axis=1)"
   ]
  },
  {
   "cell_type": "code",
   "execution_count": 5,
   "metadata": {},
   "outputs": [],
   "source": [
    "def separate_big_text(row):\n",
    "\n",
    "    intro_len = 0\n",
    "    if isinstance(row['intro'], str):\n",
    "        intro_len = len(row['intro'].split())\n",
    "\n",
    "    if len(row['content'].split()) + intro_len > 512:\n",
    "        splitted = row['content'].split('\\n')\n",
    "        midpoint = len(splitted)//2\n",
    "        part_one = splitted[:midpoint]\n",
    "        part_two = splitted[midpoint:]\n",
    "        return ['\\n'.join(part_one), '\\n'.join(part_two)]\n",
    "    else:\n",
    "        return row['content']\n",
    "\n",
    "df2['content'] = df2.apply(separate_big_text, axis=1)\n",
    "df2 = df2.explode('content')"
   ]
  },
  {
   "cell_type": "code",
   "execution_count": 6,
   "metadata": {},
   "outputs": [],
   "source": [
    "def combine_content(row):\n",
    "    breadcrums = ' > '.join(row[\"breadcrums\"])\n",
    "    intro = row[\"intro\"]\n",
    "\n",
    "    subtitles = row[\"subtitles\"]\n",
    "    subtitles_str = \"\"\n",
    "    for i, subtitle in enumerate(subtitles, start=1):\n",
    "      subtitles_str += \"#\"*i + subtitle + \"\\n\"\n",
    "\n",
    "    content = row[\"content\"]\n",
    "\n",
    "    return f\"{breadcrums}\\n{intro}\\n\\n{subtitles_str}\\n{content}\"\n",
    "\n",
    "df2[\"key_content\"] = df2.apply(combine_content, axis=1)"
   ]
  },
  {
   "cell_type": "code",
   "execution_count": 7,
   "metadata": {},
   "outputs": [
    {
     "name": "stdout",
     "output_type": "stream",
     "text": [
      "1284    539\n",
      "985     538\n",
      "3247    538\n",
      "2753    537\n",
      "1284    537\n",
      "1006    537\n",
      "1006    537\n",
      "1006    537\n",
      "1006    537\n",
      "2636    536\n",
      "Name: key_content_len, dtype: int64\n"
     ]
    }
   ],
   "source": [
    "df2['key_content_len'] = df2['key_content'].apply(lambda x: len(x.split()))\n",
    "df2 = df2.sort_values(by='key_content_len', ascending=False)\n",
    "print(df2.iloc[60:70]['key_content_len'])"
   ]
  },
  {
   "cell_type": "code",
   "execution_count": 8,
   "metadata": {},
   "outputs": [],
   "source": [
    "df2.to_csv(\"service_public_content_wv.csv\")"
   ]
  }
 ],
 "metadata": {
  "kernelspec": {
   "display_name": "Python 3",
   "language": "python",
   "name": "python3"
  },
  "language_info": {
   "codemirror_mode": {
    "name": "ipython",
    "version": 3
   },
   "file_extension": ".py",
   "mimetype": "text/x-python",
   "name": "python",
   "nbconvert_exporter": "python",
   "pygments_lexer": "ipython3",
   "version": "3.10.8"
  },
  "orig_nbformat": 4
 },
 "nbformat": 4,
 "nbformat_minor": 2
}
