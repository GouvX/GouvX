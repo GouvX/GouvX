{
  "cells": [
    {
      "cell_type": "markdown",
      "source": [
        "### Functions:"
      ],
      "metadata": {
        "id": "GxOiurctC537"
      }
    },
    {
      "cell_type": "code",
      "source": [
        "def ask_llm(prompt):\n",
        "  import openai\n",
        "  full_response = []\n",
        "  for chunk in openai.ChatCompletion.create(\n",
        "      model=\"gpt-3.5-turbo\",\n",
        "      messages=[{\n",
        "          \"role\": \"user\",\n",
        "          \"content\": prompt\n",
        "      }],\n",
        "      stream=True,\n",
        "  ):\n",
        "      content = chunk[\"choices\"][0].get(\"delta\", {}).get(\"content\")\n",
        "      if content is not None:\n",
        "          full_response.append(content)\n",
        "          print(content, end='')\n",
        "\n",
        "  return full_response"
      ],
      "metadata": {
        "id": "hxYYI9YRDMVb"
      },
      "execution_count": null,
      "outputs": []
    },
    {
      "cell_type": "code",
      "source": [
        "def get_near_text(question, model=None):\n",
        "  if model:\n",
        "    embedding = model.encode(question)\n",
        "    nearVector = {\"vector\": embedding}\n",
        "\n",
        "  response = (\n",
        "      client.query\n",
        "      .get(\"ServicePublic\", [\"text\", \"url\", \"subdomain\", \"title\", \"paragraph\", \"line_n\"])\n",
        "      .with_near_vector(nearVector)\n",
        "      .with_limit(10)\n",
        "      .with_additional(['certainty'])\n",
        "      .do()\n",
        "  )\n",
        "\n",
        "  return response"
      ],
      "metadata": {
        "id": "fMsf_7W8Dtcy"
      },
      "execution_count": null,
      "outputs": []
    },
    {
      "cell_type": "code",
      "source": [
        "def get_page(url):\n",
        "  url_filter = {\n",
        "    \"path\": [\"url\"],\n",
        "    \"operator\": \"Equal\",\n",
        "    \"valueText\": url,\n",
        "  }\n",
        "\n",
        "  sort_order = [\n",
        "    {\n",
        "      'path': ['line_n'],\n",
        "      'order': 'asc'\n",
        "    },\n",
        "  ]\n",
        "\n",
        "  response = (\n",
        "    client.query\n",
        "    .get(\"ServicePublic\", [\"text\", \"url\"])\n",
        "    .with_where(url_filter)\n",
        "    .with_sort(sort_order)\n",
        "    .do()\n",
        "  )\n",
        "\n",
        "  page = [result['text'] for result in response[\"data\"][\"Get\"][\"ServicePublic\"]]\n",
        "\n",
        "  return \"\\n\".join(page)"
      ],
      "metadata": {
        "id": "klU6DP0HD6uq"
      },
      "execution_count": null,
      "outputs": []
    },
    {
      "cell_type": "code",
      "source": [
        "def get_paragraph(url, paragrah_number):\n",
        "  url_filter = {\n",
        "    \"path\": [\"url\"],\n",
        "    \"operator\": \"Equal\",\n",
        "    \"valueText\": url,\n",
        "  }\n",
        "\n",
        "  paragraph_filter = {\n",
        "    \"path\": [\"paragraph\"],\n",
        "    \"operator\": \"Equal\",\n",
        "    \"valueNumber\": paragrah_number,\n",
        "  }\n",
        "\n",
        "  total_filter = {\n",
        "      \"operator\": \"And\",\n",
        "      \"operands\": [url_filter, paragraph_filter]\n",
        "  }\n",
        "\n",
        "  sort_order = [\n",
        "    {\n",
        "      'path': ['line_n'],\n",
        "      'order': 'asc'\n",
        "    },\n",
        "  ]\n",
        "\n",
        "  response = (\n",
        "    client.query\n",
        "    .get(\"ServicePublic\", [\"text\", \"url\"])\n",
        "    .with_where(total_filter)\n",
        "    .with_sort(sort_order)\n",
        "    .do()\n",
        "  )\n",
        "\n",
        "  page = [result['text'] for result in response[\"data\"][\"Get\"][\"ServicePublic\"]]\n",
        "\n",
        "  return \"\\n\".join(page)"
      ],
      "metadata": {
        "id": "jzM_rXmNj8Cq"
      },
      "execution_count": null,
      "outputs": []
    },
    {
      "cell_type": "code",
      "source": [
        "def get_around_paragraph(url, paragrah_number, line_n, n_lines_around=3):\n",
        "  url_filter = {\n",
        "    \"path\": [\"url\"],\n",
        "    \"operator\": \"Equal\",\n",
        "    \"valueText\": url,\n",
        "  }\n",
        "\n",
        "  paragraph_filter = {\n",
        "    \"path\": [\"paragraph\"],\n",
        "    \"operator\": \"Equal\",\n",
        "    \"valueNumber\": paragrah_number,\n",
        "  }\n",
        "\n",
        "  line_n_filter_gte = {\n",
        "    \"path\": [\"line_n\"],\n",
        "    \"operator\": \"GreaterThanEqual\",\n",
        "    \"valueNumber\": line_n - n_lines_around,\n",
        "  }\n",
        "\n",
        "  line_n_filter_lte = {\n",
        "    \"path\": [\"line_n\"],\n",
        "    \"operator\": \"LessThanEqual\",\n",
        "    \"valueNumber\": line_n + n_lines_around,\n",
        "  }\n",
        "\n",
        "  total_filter = {\n",
        "      \"operator\": \"And\",\n",
        "      \"operands\": [url_filter, paragraph_filter, line_n_filter_gte, line_n_filter_lte]\n",
        "  }\n",
        "\n",
        "  sort_order = [\n",
        "    {\n",
        "      'path': ['line_n'],\n",
        "      'order': 'asc'\n",
        "    },\n",
        "  ]\n",
        "\n",
        "  response = (\n",
        "    client.query\n",
        "    .get(\"ServicePublic\", [\"text\", \"url\"])\n",
        "    .with_where(total_filter)\n",
        "    .with_sort(sort_order)\n",
        "    .do()\n",
        "  )\n",
        "\n",
        "  page = [result['text'] for result in response[\"data\"][\"Get\"][\"ServicePublic\"]]\n",
        "\n",
        "  return \"\\n\".join(page)"
      ],
      "metadata": {
        "id": "pHoneh0ylpeC"
      },
      "execution_count": null,
      "outputs": []
    },
    {
      "cell_type": "code",
      "source": [
        "def weaviate_connect(weaviate_endpoint, weaviate_api_key):\n",
        "  # For using WCS\n",
        "  import weaviate\n",
        "  import json\n",
        "  import os\n",
        "\n",
        "  client = weaviate.Client(\n",
        "      url = weaviate_endpoint,  # Replace with your endpoint\n",
        "      auth_client_secret=weaviate.AuthApiKey(api_key=weaviate_api_key),  # Replace w/ your Weaviate instance API key\n",
        "  )\n",
        "\n",
        "  return client"
      ],
      "metadata": {
        "id": "04CoDWsnDvai"
      },
      "execution_count": null,
      "outputs": []
    },
    {
      "cell_type": "code",
      "source": [
        "def get_prompt(question, results, context_lines=3):\n",
        "  text = f\"\"\"A partir du contenu de ces textes répondez aux questions en fin de document.\n",
        "  La réponse devra être la plus claire et détaillée possible et se conformer à cette convention de nommage:\n",
        "\n",
        "  selon service-public.fr... <b>[numéro du document]</b>\n",
        "\n",
        "  \"\"\"\n",
        "\n",
        "  for i, result in enumerate(results, start=1):\n",
        "    title = result[\"title\"]\n",
        "    url = result[\"url\"]\n",
        "    paragraph = get_around_paragraph(result[\"url\"], result[\"paragraph\"], result[\"line_n\"], context_lines)\n",
        "\n",
        "    text += f\"\"\"\n",
        "    [{i}]: ({title})[{url}]:\n",
        "    {paragraph}\n",
        "\n",
        "    \"\"\"\n",
        "\n",
        "  text += f\"Question: {question}\"\n",
        "\n",
        "  return text\n"
      ],
      "metadata": {
        "id": "B1_5XDTmOrgX"
      },
      "execution_count": null,
      "outputs": []
    },
    {
      "cell_type": "code",
      "source": [
        "def ask_gouvx(question, model, n_results=1):\n",
        "  response = get_near_text(question, model)\n",
        "\n",
        "  results = response[\"data\"][\"Get\"][\"ServicePublic\"][:n_results]\n",
        "\n",
        "  prompt = get_prompt(question, results)\n",
        "  full_response = ask_llm(prompt)\n",
        "\n",
        "  print(\"\\nSources:\")\n",
        "  for i, result in enumerate(results, start=1):\n",
        "    print(f\"{[i]} ({result['title']})[{result['url']}]\")\n",
        "\n",
        "  return prompt, results, full_response"
      ],
      "metadata": {
        "id": "9tle5ow6EJSy"
      },
      "execution_count": null,
      "outputs": []
    },
    {
      "cell_type": "markdown",
      "source": [
        "### Inference"
      ],
      "metadata": {
        "id": "QJgWeDVWDQyi"
      }
    },
    {
      "cell_type": "code",
      "source": [
        "!pip install transformers\n",
        "!pip install sentence_transformers\n",
        "!pip install -U weaviate-client==3.22.1\n",
        "!pip install openai\n",
        "\n",
        "from sentence_transformers import SentenceTransformer\n",
        "import openai"
      ],
      "metadata": {
        "id": "xbi2V34zC0oi"
      },
      "execution_count": null,
      "outputs": []
    },
    {
      "cell_type": "code",
      "source": [
        "weaviate_endpoint = \"\"\n",
        "weaviate_api_key = \"\"\n",
        "openai_api_key = \"\""
      ],
      "metadata": {
        "id": "1l9JuBnzCMmq"
      },
      "execution_count": null,
      "outputs": []
    },
    {
      "cell_type": "code",
      "source": [
        "client = weaviate_connect(weaviate_endpoint, weaviate_api_key)\n",
        "openai.api_key = openai_api_key\n",
        "model = SentenceTransformer(\"dangvantuan/sentence-camembert-large\")"
      ],
      "metadata": {
        "id": "SLaFWzI0COaV"
      },
      "execution_count": null,
      "outputs": []
    },
    {
      "cell_type": "code",
      "source": [
        "question = \"Ma voiture a un crit'air vraient très haut, c'est grave ?\"\n",
        "prompt, documents, reponse = ask_gouvx(question, model, 3)"
      ],
      "metadata": {
        "id": "IX3Du7Giwo0T"
      },
      "execution_count": null,
      "outputs": []
    },
    {
      "cell_type": "markdown",
      "source": [
        "### Eval"
      ],
      "metadata": {
        "id": "LjULhb4NYxxQ"
      }
    },
    {
      "cell_type": "code",
      "source": [
        "print(''.join(reponse).replace(\". \", \"\\n\"))"
      ],
      "metadata": {
        "colab": {
          "base_uri": "https://localhost:8080/"
        },
        "id": "C3HXli4Gd_mB",
        "outputId": "f1e045ff-214a-4f55-e7b3-2eeb12db4580"
      },
      "execution_count": null,
      "outputs": [
        {
          "output_type": "stream",
          "name": "stdout",
          "text": [
            "Selon le texte de service-public.fr [1], quitter son travail pour déménager avec son partenaire peut être considéré comme un motif légitime de démission\n",
            "Dans ce cas, vous pourriez être éligible à l'allocation chômage (ARE)\n",
            "Cependant, il y a certaines conditions à remplir pour que votre démission soit considérée comme légitime par Pôle emploi.\n",
            "\n",
            "Tout d'abord, votre partenaire doit déménager pour des raisons professionnelles, que ce soit une activité salariée ou non\n",
            "De plus, votre nouvelle adresse ne doit pas vous permettre de continuer votre activité professionnelle\n",
            "Il est également important de noter que vous devrez attendre 121 jours, soit environ 4 mois, avant de pouvoir demander à Pôle emploi de réexaminer votre dossier.\n",
            "\n",
            "Il est recommandé de se référer au texte officiel pour obtenir tous les détails et les informations précises concernant l'éligibilité à l'allocation chômage en cas de démission pour déménagement avec son partenaire.\n"
          ]
        }
      ]
    },
    {
      "cell_type": "code",
      "source": [
        "eval_prompt = f\"\"\"Sur une échelle de un à dix, quel est la pertinence de cette réponse selon les documents proposés selon les critères suivants:\n",
        "1. lien avec les documents\n",
        "2. pertinence de la réponse à la question\n",
        "\n",
        "Documents: {documents}\n",
        "\n",
        "Question: {question}\n",
        "\n",
        "Réponse: {reponse}\n",
        "\n",
        "Répondez comme suit: 1: score, 2: score. Pas de texte supplémentaire\"\"\"\n",
        "\n",
        "_ = ask_llm(eval_prompt)"
      ],
      "metadata": {
        "colab": {
          "base_uri": "https://localhost:8080/"
        },
        "id": "sqxHeWAmP8TB",
        "outputId": "cc59015e-7adb-4c39-aade-0a534139061c"
      },
      "execution_count": null,
      "outputs": [
        {
          "output_type": "stream",
          "name": "stdout",
          "text": [
            "1. lien avec les documents: 10\n",
            "2. pertinence de la réponse à la question: 10"
          ]
        }
      ]
    },
    {
      "cell_type": "code",
      "source": [
        "print(prompt)"
      ],
      "metadata": {
        "id": "u5sxorc_Tj-S",
        "colab": {
          "base_uri": "https://localhost:8080/"
        },
        "outputId": "47d78aa2-1d34-4e4b-d2ef-4ceba5d6027e"
      },
      "execution_count": null,
      "outputs": [
        {
          "output_type": "stream",
          "name": "stdout",
          "text": [
            "A partir du contenu de ces textes répondez aux questions en fin de document.\n",
            "  La réponse devra être la plus claire et détaillée possible et se conformer à cette convention de nommage:\n",
            "\n",
            "  selon service-public.fr... <b>[numéro du document]</b>\n",
            "\n",
            "  \n",
            "    [1]: (Un salarié peut-il toucher l'allocation chômage en cas de démission ? | Service-public.fr)[https://www.service-public.fr/particuliers/vosdroits/F89]:\n",
            "    Textes de loi et références Code du travail : articles L5422-1 à L5422-2-1 Conditions d'attribution de l'allocation chômage Code du travail : article L5426-1-2 Dispositions particulières applicables aux bénéficiaires de l'allocation d'assurance à la suite d'une démission Code du travail : articles R5422-1 à R5422-2-3 Projet de reconversion professionnelle Convention 2017 et accords d'application relatifs à l'indemnisation du chômage Accords d'application n°12-§1er (réexamen des droits) et n°14 (démission légitime)Décret n° 2019-797 du 26 juillet 2019 relatif au régime d'assurance chômage Article 26 du règlement général annexé (reliquat de de droits)Décret n°2019-797 du 26 juillet 2019 relatif au régime d'assurance chômage Cas de démission légitime Questions ? Réponses ! Un ressortissant européen salarié en  France a-t-il les mêmes droits qu'un salarié français ? Voir aussi Reconversion professionnelle et allocations chômagePôle emploi Bien préparer son projet de reconversion professionnelle avant de démissionner Ministère chargé du travail Cette page vous a-t-elle été utile ?1 Pas du tout Cette page ne pas m'a pas du tout été utile2 Un peu Cette page m'a été un peu utile3 Moyen Cette page m'a été moyennement utile4 Beaucoup Cette page m'a été très utile5 Parfait ! Cette page m'a été parfaitement utile Cette page vous a-t-elle été utile ?12345 Pas du tout Un peu Moyen Beaucoup Parfait !L’équipe service-public.fr vous remercie pour votre réponse Vous avez noté 1 sur 5 :\n",
            "Un salarié peut-il toucher l'allocation chômage en cas de démission ?Vérifié le 21 juin 2023 -  Direction de l'information légale et administrative ( Première ministre) Autres cas ?  Pour un agent public Vous êtes en CDI: title Content et vous démissionnez ? En principe, la démission ne vous permet pas de bénéficier de l'allocation de retour à l'emploi (ARE)\n",
            "Veuillez patienter pendant le chargement de la page Accéder aux informations générales sans renseigner ma situation Vidéo -  Si je démissionne, ai-je le droit aux allocations chômage ?\n",
            "Touchez-vous des indemnités chômage en cas de démission d'un nouvel emploi repris suite à un licenciement ? Votre démission peut être considérée comme légitime si vous remplissez l'ensemble des conditions suivantes  : Votre précédent contrat a été rompu dans l'un des cas suivants : Licenciement personnel Licenciement économique Rupture conventionnelle Fin de CDD: title Content Vous ne vous êtes pas inscrit comme demandeur d'emploi depuis la rupture de votre dernier contrat de travail Vous avez été embauché en CDI: title Content et vous avez mis fin à votre contrat volontairement moins de 65 jours ouvrés: title Content après la date de l'embauche Si vous remplissez toutes ces conditions, vous pouvez percevoir l'ARE\n",
            " Toutefois, dans certains cas, votre démission peut être considérée comme légitime par Pôle emploi\n",
            "Accepter les cookies Voir la version texte de la vidéo Si je démissionne, ai-je le droit aux allocations chômage ?C'est une idée reçue ! En effet, si vous démissionnez, vous ne pouvez pas percevoir tout de suite des allocations chômage\n",
            "Il existe toutefois certains cas où une démission peut être considérée comme légitime par Pôle emploi\n",
            "EnvoyerCDI :  Contrat de travail à durée indéterminéeCDD :  Contrat à durée déterminée Pacs :  Pacte civil de solidarité Recevoir la lettre de  Service- Public.fr Abonnement hebdomadaire gratuit\n",
            " Elle ouvre alors droit à l'ARE dans les conditions habituelles\n",
            "Quels sont les cas de démission légitime ?  Si la démission n'est pas reconnue comme légitime est-ce que Pôle emploi peut réexaminer votre dossier ? Nous faisons un point sur la réglementation.\n",
            "Dans ces cas précis, vous pouvez alors avoir droit aux allocations de retour à l'emploi juste après avoir démissionné\n",
            "Cela est le cas si :-  Vous déménagez pour suivre la personne avec qui vous vivez en couple-  Vous partez en formation-  Votre employeur ne vous verse plus de salaire-  Vous êtes victime d'actes délictueux au travail (comme des violences physiques, ou du harcèlement)-  Vous créez ou reprenez une entreprise-  Vous avez un projet de reconversion professionnelle-  Vous partez en service civique ou en volontariat-  Vous avez déjà été inscrit à Pôle emploi, mais vous n'avez pas épuisé tous vos droits à indemnisation-  Vous avez été licencié, puis vous avez trouvé un nouvel emploi que vous avez quitté moins de 65 jours après l'embauche Si vous n'êtes dans aucune de ces situations, rassurez-vous toutefois : cela ne veut pas dire que vous ne toucherez jamais d'allocation\n",
            "Touchez-vous des indemnités chômage en cas de démission suite à un déménagement ? Les conditions d'indemnisation diffèrent en fonction du motif à l'origine du déménagement.Répondez aux questions successives et les réponses s’afficheront automatiquement Vous démissionnez pour suivre la personne avec qui vous vivez en couple Votre démission peut être légitime si vous suivez la personne avec qui vous vivez en couple: title Content qui déménage pour un motif professionnel (activité salariée ou non)\n",
            "Si vous remplissez cette condition, vous pouvez toucher l'ARE\n",
            " Mais il vous faudra attendre\n",
            " Au bout de 121 jours de chômage, soit 4 mois environ, vous pourrez en effet demander à Pôle emploi le réexamen de votre dossier.\n",
            "Vous démissionnez pour suivre la personne avec qui vous vous mariez ou pacsez Votre démission peut être légitime en raison de votre mariage ou de la signature d'un  Pacs: title Content lorsque celui-ci entraîne un déménagement\n",
            " Votre nouvelle adresse ne doit pas vous permettre de conserver votre activité professionnelle.À noter  moins de 2 mois doivent s'écouler entre la date du mariage ou du  Pacs: title Content et la date de la démission ou de la fin du contrat de travail (peu importe que le mariage ou le  Pacs soit conclu avant ou après la démission)\n",
            "Vous démissionnez car vous êtes victime de violences conjugales Votre démission peut être légitime si votre déménagement est justifié par des violences conjugales\n",
            "Votre nouvelle adresse ne vous permet pas de conserver votre activité professionnelle\n",
            "Vous devez avoir déposé une plainte pour ce motif\n",
            " Le récépissé de dépôt de plainte est à joindre à la demande d'indemnisation\n",
            "Vous démissionnez pour suivre votre enfant handicapé placé dans une structure d'accueil éloignée Votre démission peut être légitime si votre déménagement est expliqué par le placement de votre enfant handicapé dans une structure d'accueil éloignée\n",
            "Votre nouvelle adresse ne vous permet pas alors de conserver votre activité professionnelle\n",
            "Vous êtes mineur et vous démissionnez pour suivre vos parents Votre démission peut être légitime si vous avez moins de 18 ans et que vous suivez vos parents (ou la personne qui exerce l'autorité parentale) qui déménagent\n",
            "Vous êtes majeur et vous démissionnez pour suivre votre curateur ou votre tuteur Votre démission peut être légitime si vous avez plus de 18 ans, placé sous curatelle ou tutelle, et que vous suivez votre parent désigné mandataire spécial, curateur ou tuteur, qui déménage\n",
            "Votre nouvelle adresse ne vous permet pas alors de conserver votre activité professionnelle\n",
            "Touchez-vous des indemnités chômage en cas de démission lorsque l'employeur ne vous verse plus votre salaire ? Votre démission peut être légitime si vous démissionnez lorsque votre employeur ne vous verse pas tout ou partie de votre salaire pour des périodes travaillées\n",
            "Vous devez justifier de cette situation en produisant une ordonnance de référé du conseil de prud'hommes condamnant votre employeur à payer les sommes dues\n",
            "Touchez-vous des indemnités chômage en cas de démission si vous êtes victime d'actes délictueux au travail (violences physiques, harcèlement...) ? Votre démission peut être légitime si vous êtes victime d'actes délictueux dans le cadre de votre travail (violences physiques, harcèlement par exemple)\n",
            "Vous devez justifier avoir déposé une plainte pour l'un de ces motifs\n",
            " Le récépissé de dépôt de plainte à joindre à la demande\n",
            "Touchez-vous des indemnités chômage en cas de démission pour créér ou reprendre une entreprise et que celle-ci ferme pour des raisons indépendantes de votre volonté ? Votre démission peut être légitime si l'entreprise que vous avez créé ou reprise cesse\n",
            "Vous devez remplir les 3 conditions cumulatives suivantes :  Quitter votre emploi pour créer ou reprendre une entreprise qui doit être enregistrée au guichet de formalités des entreprises\n",
            "Ne pas percevoir l'ARE après la fin de votre activité salariée Cessation pour des raisons indépendantes de votre volonté de l'entreprise que vous avez créée ou reprise Si vous remplissez ces conditions, vous pouvez percevoir l'ARE\n",
            "Touchez-vous des indemnités chômage en cas de démission pour un projet de reconversion professionnelle ? Votre démission peut être légitime si vous remplissez les conditions cumulatives suivantes : Justifier d'au moins 1 300 jours travaillés dans les 60 derniers mois Avoir un projet de reconversion professionnelle bien préparé et reconnu comme étant réel et sérieux Si vous remplissez ces conditions, vous pouvez percevoir l'ARE\n",
            "Un téléservice permet de vérifier si vous remplissez les conditions :Démission reconversion : les étapes de construction et de validation de votre projet Votre projet professionnel doit être validé par une commission paritaire interprofessionnelle régionale (CPIR)\n",
            "Si votre projet est validé, vous pouvez démissionnez\n",
            "Attention   Si vous démissionnez avant que votre projet ne soit validé par pôle emploi, vous ne pourrez pas bénéficier de l'allocation chômage\n",
            "Vous devez vous inscrire comme demandeur d'emploi dans les 6 mois qui suivent la validation de votre projet\n",
            "Si tel est le cas, vous êtes indemnisé comme n'importe quel demandeur d'emploi, pendant et après la période de mise en œuvre du projet\n",
            "Touchez-vous des indemnités chômage en cas de démission pour un départ en service civique ou en volontariat ? Votre démission peut être légitime si elle est justifiée par la conclusion de l'un des contrats suivants : Contrat de service civique Contrats de volontariat de solidarité internationale ou de volontariat associatif, d'une durée continue minimale d'un an Si vous remplissez cette condition, vous pouvez percevoir l'ARE\n",
            "Vous bénéficiez de l'ARE y compris si la mission est interrompue avant à la fin de la durée minimale d'engagement prévue au contrat\n",
            "Touchez-vous des indemnités chômage en cas de démission si vous avez encore un reliquat de droits à l'ARE ? Votre démission peut être légitime si vous n'avez pas épuisé tous vos droits à l'ARE lors d'une précédente inscription comme demandeur d'emploi\n",
            "Vous pouvez bénéficier d'un reliquat de droits\n",
            "Le reliquat de droits consiste à une reprise de vos droits même en cas de démission, sous conditions\n",
            "Le versement de votre allocation n'est pas suspendu dans les 3 cas suivants : Si vous justifiez de moins de 65 jours (et 455 heures) travaillés depuis votre ouverture de droit Si le contrat duquel vous avez démissionné a duré moins de 8 jours calendaires  Si le contrat duquel vous avez démissionné a représenté moins de 17 heures par semaine Qui peut m'aider ? Vous avez une question ?  Vous souhaitez être accompagné(e) dans vos démarches ?  Trouver un interlocuteur Pivot  Local\n",
            "\n",
            "    Question: Je veux quitter mon travail pour déménager avec mon partenaire et j'aimerai être élligible au chomage, est ce que c'est un bon motif ?\n"
          ]
        }
      ]
    }
  ],
  "metadata": {
    "kernelspec": {
      "display_name": "Python 3",
      "name": "python3"
    },
    "language_info": {
      "codemirror_mode": {
        "name": "ipython",
        "version": 3
      },
      "file_extension": ".py",
      "mimetype": "text/x-python",
      "name": "python",
      "nbconvert_exporter": "python",
      "pygments_lexer": "ipython3",
      "version": "3.10.12"
    },
    "orig_nbformat": 4,
    "colab": {
      "provenance": [],
      "gpuType": "T4",
      "collapsed_sections": [
        "l1zU5OYoIaFB",
        "dcaqemab_BaN",
        "izQf5EY4_mTf",
        "5NoMYVOR_BaU",
        "RXOQeid-9ieb",
        "1kl-oTAt_wp-",
        "1dkQuWPq_6H3",
        "li6PIZ65_Bac",
        "H8v38LRan0-k",
        "LjULhb4NYxxQ"
      ]
    },
    "accelerator": "GPU"
  },
  "nbformat": 4,
  "nbformat_minor": 0
}